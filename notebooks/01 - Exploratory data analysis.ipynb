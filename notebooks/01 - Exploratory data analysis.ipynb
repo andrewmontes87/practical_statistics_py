{
 "cells": [
  {
   "cell_type": "markdown",
   "metadata": {},
   "source": [
    "## Exploratory data analysis\n",
    "\n",
    "### Elements of structured data\n",
    "\n",
    "#### Key terms for data types\n",
    "\n",
    "**Continuous** - data can take on any value in an interval\n",
    "\n",
    "**Discrete** - data can take on only integer values\n",
    "\n",
    "**Categorical** - data can take on only specific set of values representing categories\n",
    "\n",
    "**Binary** - data can be just true or false, 0 or 1, etc.\n",
    "\n",
    "**Ordinal** - categorical data with an explicit ordering"
   ]
  },
  {
   "cell_type": "markdown",
   "metadata": {},
   "source": [
    "### Rectangular data\n",
    "\n",
    "**Data frame** - rectangular 2d data, like a spreadsheet. basic data structure\n",
    "\n",
    "**Feature** - column in the table\n",
    "\n",
    "**Outcome** - predicting an outcome from the features\n",
    "\n",
    "**Records** - a row in the table\n",
    "\n",
    "#### Indexing\n",
    "\n",
    "Traditionally a column is designated as the index\n",
    "\n",
    "Some data structures (e.g. pandas) can have hierarchical indices\n",
    "\n",
    "#### Nonrectangular data structures\n",
    "\n",
    "Time series\n",
    "\n",
    "Spatial data structures\n",
    "- object representation\n",
    "- field view\n",
    "\n",
    "Graph/network data structures"
   ]
  },
  {
   "cell_type": "markdown",
   "metadata": {},
   "source": [
    "\n",
    "### Estimates of location\n",
    "\n",
    "**Mean** - sum of all values divided by count of values\n",
    "\n",
    "**Weighted mean** - sum of all values times a weight, divided by sum of the weights\n",
    "\n",
    "**Median** - value where 1/2 the data is above/below\n",
    "\n",
    "**Weighted median** - value where 1/2 the sum of the weights lies above/below the sorted data\n",
    "\n",
    "**Trimmed mean** - avg. of all values after dropping fixed number of extreme values\n",
    "\n",
    "**Robust** - data that is not sensitive to extreme values\n",
    "\n",
    "**Outlier** - data that is very different from most of the data\n",
    "\n",
    "#### Mean\n",
    "\n",
    "Mean = \n",
    "\n",
    "### $ \\bar{x} = \\frac{\\sum_{i}^n x_{i}}{n}  $"
   ]
  },
  {
   "cell_type": "code",
   "execution_count": 1,
   "metadata": {},
   "outputs": [
    {
     "name": "stdout",
     "output_type": "stream",
     "text": [
      "2.0\n",
      "2.6666666666666665\n"
     ]
    }
   ],
   "source": [
    "def mean(x):\n",
    "    sum_x = sum(x)\n",
    "    n = len(x)\n",
    "    return sum_x / n\n",
    "\n",
    "print(mean([1,2,3]))\n",
    "print(mean([1,2,5]))"
   ]
  },
  {
   "cell_type": "markdown",
   "metadata": {},
   "source": [
    "Trimmed mean \n",
    "\n",
    "### $ \\bar{x} = \\frac{ \\sum_{i = p + 1}^{n - p} x_{i} } {n - 2p}  $ \n"
   ]
  },
  {
   "cell_type": "code",
   "execution_count": 2,
   "metadata": {},
   "outputs": [
    {
     "name": "stdout",
     "output_type": "stream",
     "text": [
      "3.0\n",
      "3.0\n",
      "2983.5\n"
     ]
    }
   ],
   "source": [
    "def trimmed_mean(x, p):\n",
    "    x = sorted(x)\n",
    "    n = len(x)\n",
    "    sum_x = sum( x[ p : n - p ] )\n",
    "    return sum_x / (n - 2*p)\n",
    "\n",
    "print(trimmed_mean([1,2,3,4,900], 1))\n",
    "# is equivalent to ->\n",
    "print(mean([2,3,4]))\n",
    "\n",
    "# or use a percentage ->\n",
    "values = [i*i for i in range(100)]\n",
    "print(trimmed_mean(values, int(len(values)*0.1)))"
   ]
  },
  {
   "cell_type": "markdown",
   "metadata": {},
   "source": [
    "Weighted mean = \n",
    "\n",
    "### $ \\bar{x_{w}} = \\frac{ \\sum_{i = 1}^{n} w_{i} x_{i} }{ \\sum_{i}^{n} w_{i} }   $"
   ]
  },
  {
   "cell_type": "code",
   "execution_count": 3,
   "metadata": {},
   "outputs": [
    {
     "name": "stdout",
     "output_type": "stream",
     "text": [
      "2.99402390438247\n"
     ]
    }
   ],
   "source": [
    "def weighted_mean(x, w):\n",
    "    n = len(x)\n",
    "    sum_w_x = sum([w[i] * x[i] for i in range(n)])\n",
    "    sum_w = sum(w)\n",
    "    return sum_w_x / sum_w\n",
    "        \n",
    "print(weighted_mean([1,2,3],[1,1,500]))\n",
    "## the last figure is weighted 500x the others"
   ]
  },
  {
   "cell_type": "markdown",
   "metadata": {},
   "source": [
    "#### Median and robust estimates"
   ]
  },
  {
   "cell_type": "code",
   "execution_count": 4,
   "metadata": {},
   "outputs": [
    {
     "name": "stdout",
     "output_type": "stream",
     "text": [
      "3\n",
      "2.5\n"
     ]
    }
   ],
   "source": [
    "def median(x):\n",
    "    x = sorted(x)\n",
    "    n = len(x)\n",
    "    odd = n % 2\n",
    "    if odd:\n",
    "        ## return mid\n",
    "        return x[n//2]\n",
    "    else:\n",
    "        # return avg. of middle 2\n",
    "        return mean([x[n//2-1],x[n//2]])\n",
    "        \n",
    "print(median([1,2,3,4,500]))\n",
    "print(median([1,2,3,4]))"
   ]
  },
  {
   "cell_type": "markdown",
   "metadata": {},
   "source": [
    "Also weighted median (not shown)\n",
    "\n",
    "#### Outliers\n",
    "\n",
    "Can avoid outliers using median, but also trimmed mean\n",
    "\n",
    "Common choice is to trim top and bottom 10% before calculating mean\n",
    "\n",
    "Trimmed mean is a \"compromise\" between mean and median"
   ]
  },
  {
   "cell_type": "markdown",
   "metadata": {},
   "source": [
    "### Estimates of Variability\n",
    "\n",
    "**Variability** - also known as dispersion, how spread out is the data\n",
    "\n",
    "**Deviations** - diff. b/w observed values and estimate of location\n",
    "\n",
    "**Variance** - sum of squared deviations from the mean, divided by n - 1\n",
    "\n",
    "**Standard deviation** - square root of the variance\n",
    "\n",
    "**Mean absolute deviation** - mean of the abs values of the deviations from the mean\n",
    "\n",
    "**Median abs deviation from the median** - median of the abs value of the deviations from the median\n",
    "\n",
    "**Range** - diff. b/w max and min\n",
    "\n",
    "**Order statistics** - metrics based on the data values sorted\n",
    "\n",
    "**Percentile** - value such that P percent of the values are this value or less\n",
    "\n",
    "**Interquartile range** - diff. b/w 75th and 25th percentile\n",
    "\n",
    "\n",
    "#### Standard deviation and related estimates\n",
    "\n",
    "Mean abs deviation = \n",
    "\n",
    "# $ \\frac{ \\sum_{i = 1}^n \\mid x_i - \\bar{x} \\mid }{ n }  $ \n",
    "\n",
    "\n",
    "\n"
   ]
  },
  {
   "cell_type": "code",
   "execution_count": 5,
   "metadata": {},
   "outputs": [
    {
     "data": {
      "text/plain": [
       "2.0"
      ]
     },
     "execution_count": 5,
     "metadata": {},
     "output_type": "execute_result"
    }
   ],
   "source": [
    "def mean_abs_deviation(x):\n",
    "    n = len(x)\n",
    "    mean_x = mean(x)\n",
    "    sum_abs_deviations = sum([abs(x[i] - mean_x) for i in range(n)])\n",
    "    return sum_abs_deviations / n\n",
    "\n",
    "mean_abs_deviation([1,2,6])"
   ]
  },
  {
   "cell_type": "markdown",
   "metadata": {},
   "source": [
    "Variance =\n",
    "\n",
    "### $ s^2 = \\frac{ \\sum (x - \\bar{x})^2 }{ n - 1 } $"
   ]
  },
  {
   "cell_type": "code",
   "execution_count": 6,
   "metadata": {},
   "outputs": [
    {
     "name": "stdout",
     "output_type": "stream",
     "text": [
      "4.666666666666667\n",
      "7.0\n"
     ]
    }
   ],
   "source": [
    "def variance(x, sample=True):\n",
    "    n = len(x)\n",
    "    mean_x = mean(x)\n",
    "    sum_squared_deviations = sum([ (x[i] - mean_x)**2 for i in range(n) ])\n",
    "    denominator = (n - 1) if sample else n\n",
    "    return sum_squared_deviations / denominator\n",
    "\n",
    "print(variance([1,2,6], sample=False))\n",
    "print(variance([1,2,6], sample=True))"
   ]
  },
  {
   "cell_type": "markdown",
   "metadata": {},
   "source": [
    "Standard deviation = \n",
    "\n",
    "$ s = \\sqrt{Variance} $ "
   ]
  },
  {
   "cell_type": "code",
   "execution_count": 7,
   "metadata": {},
   "outputs": [
    {
     "data": {
      "text/plain": [
       "2.6457513110645907"
      ]
     },
     "execution_count": 7,
     "metadata": {},
     "output_type": "execute_result"
    }
   ],
   "source": [
    "import math\n",
    "def standard_deviation(x):\n",
    "    return math.sqrt(variance(x))\n",
    "\n",
    "standard_deviation([1,2,6])"
   ]
  },
  {
   "cell_type": "markdown",
   "metadata": {},
   "source": [
    "#### Estimates based on percentiles\n",
    "\n"
   ]
  },
  {
   "cell_type": "markdown",
   "metadata": {},
   "source": [
    "### Exploring the data distribution\n",
    "\n",
    "**Boxplot** - box and whiskers, quick way to vizualize data distribution\n",
    "\n",
    "**Frequency table** - tally of the count of numeric data values that fall into a set of bins/intervals\n",
    "\n",
    "**Histogram** - plot of the frequency table w/ the bins on the x-axis and the count (or proportion) on y-axis\n",
    "\n",
    "**Density plot** - smoothed version of the histogram, often based on *kernel density estimate*\n",
    "\n",
    "#### Percentiles and boxplots"
   ]
  },
  {
   "cell_type": "code",
   "execution_count": 8,
   "metadata": {},
   "outputs": [
    {
     "data": {
      "text/html": [
       "<div>\n",
       "<style scoped>\n",
       "    .dataframe tbody tr th:only-of-type {\n",
       "        vertical-align: middle;\n",
       "    }\n",
       "\n",
       "    .dataframe tbody tr th {\n",
       "        vertical-align: top;\n",
       "    }\n",
       "\n",
       "    .dataframe thead th {\n",
       "        text-align: right;\n",
       "    }\n",
       "</style>\n",
       "<table border=\"1\" class=\"dataframe\">\n",
       "  <thead>\n",
       "    <tr style=\"text-align: right;\">\n",
       "      <th></th>\n",
       "      <th>0</th>\n",
       "    </tr>\n",
       "  </thead>\n",
       "  <tbody>\n",
       "    <tr>\n",
       "      <th>count</th>\n",
       "      <td>3.000000</td>\n",
       "    </tr>\n",
       "    <tr>\n",
       "      <th>mean</th>\n",
       "      <td>3.000000</td>\n",
       "    </tr>\n",
       "    <tr>\n",
       "      <th>std</th>\n",
       "      <td>2.645751</td>\n",
       "    </tr>\n",
       "    <tr>\n",
       "      <th>min</th>\n",
       "      <td>1.000000</td>\n",
       "    </tr>\n",
       "    <tr>\n",
       "      <th>25%</th>\n",
       "      <td>1.500000</td>\n",
       "    </tr>\n",
       "    <tr>\n",
       "      <th>50%</th>\n",
       "      <td>2.000000</td>\n",
       "    </tr>\n",
       "    <tr>\n",
       "      <th>75%</th>\n",
       "      <td>4.000000</td>\n",
       "    </tr>\n",
       "    <tr>\n",
       "      <th>max</th>\n",
       "      <td>6.000000</td>\n",
       "    </tr>\n",
       "  </tbody>\n",
       "</table>\n",
       "</div>"
      ],
      "text/plain": [
       "              0\n",
       "count  3.000000\n",
       "mean   3.000000\n",
       "std    2.645751\n",
       "min    1.000000\n",
       "25%    1.500000\n",
       "50%    2.000000\n",
       "75%    4.000000\n",
       "max    6.000000"
      ]
     },
     "execution_count": 8,
     "metadata": {},
     "output_type": "execute_result"
    }
   ],
   "source": [
    "import pandas as pd\n",
    "df = pd.DataFrame([1,2,6])\n",
    "df.describe()"
   ]
  },
  {
   "cell_type": "code",
   "execution_count": 9,
   "metadata": {},
   "outputs": [
    {
     "data": {
      "text/plain": [
       "<matplotlib.axes._subplots.AxesSubplot at 0x10bef3550>"
      ]
     },
     "execution_count": 9,
     "metadata": {},
     "output_type": "execute_result"
    }
   ],
   "source": [
    "import seaborn as sns\n",
    "\n",
    "sns.boxplot(y=df[0])"
   ]
  },
  {
   "cell_type": "markdown",
   "metadata": {},
   "source": [
    "#### Frequency table and histogram and density estimates"
   ]
  },
  {
   "cell_type": "code",
   "execution_count": 10,
   "metadata": {},
   "outputs": [
    {
     "data": {
      "text/plain": [
       "<matplotlib.axes._subplots.AxesSubplot at 0x10bf96f60>"
      ]
     },
     "execution_count": 10,
     "metadata": {},
     "output_type": "execute_result"
    },
    {
     "data": {
      "image/png": "[encoded data removed]",
      "text/plain": [
       "<matplotlib.figure.Figure at 0x10bf0d1d0>"
      ]
     },
     "metadata": {},
     "output_type": "display_data"
    }
   ],
   "source": [
    "%matplotlib inline\n",
    "import matplotlib.pyplot as plt\n",
    "\n",
    "sns.distplot(df)"
   ]
  },
  {
   "cell_type": "markdown",
   "metadata": {},
   "source": [
    "### Exploring binary and categorical data\n",
    "\n",
    "**Mode** - most common category/value\n",
    "\n",
    "**Expected value** - if categories are numeric, an average value based on category's probability of occurence\n",
    "\n",
    "**Bar charts** - frequency/proportion of categories plotted as bars\n",
    "\n",
    "**Pie charts** - frequency/proportion of categories plotted as pie"
   ]
  },
  {
   "cell_type": "code",
   "execution_count": 11,
   "metadata": {},
   "outputs": [
    {
     "data": {
      "text/plain": [
       "<matplotlib.axes._subplots.AxesSubplot at 0x10c012d30>"
      ]
     },
     "execution_count": 11,
     "metadata": {},
     "output_type": "execute_result"
    },
    {
     "data": {
      "image/png": "[encoded data removed]",
      "text/plain": [
       "<matplotlib.figure.Figure at 0x10bff7b38>"
      ]
     },
     "metadata": {},
     "output_type": "display_data"
    }
   ],
   "source": [
    "sns.barplot(x=[1,2,6], y=['red','green','blue'])"
   ]
  },
  {
   "cell_type": "markdown",
   "metadata": {},
   "source": [
    "#### Numerical data as categorical data\n",
    "\n",
    "Converting numeric data to categorical is an important step\n",
    "\n",
    "Reduces complexity\n",
    "\n",
    "#### Expected value\n",
    "\n",
    "- Multiply each outcome by its probability of occurring\n",
    "- Sum these values\n",
    "\n",
    "EV is a form of weighted mean\n",
    "\n",
    "Where the weights are the expectation probabilities"
   ]
  },
  {
   "cell_type": "markdown",
   "metadata": {},
   "source": [
    "### Correlation\n",
    "\n",
    "Correlation among predictors, and between predictors and a target variable\n",
    "\n",
    "**Correlation coefficient** - measure extent to which numeric variables are associated (from -1 to 1)\n",
    "\n",
    "**Correlation matrix** - table showing correlations between all variables\n",
    "\n",
    "**Coefficient of determination** - proportion of the variance in the dependent variable that is predictable from the independent variable\n",
    "\n",
    "**Scatterplot** - a plot where x-axis is one variable, y-axis is another"
   ]
  },
  {
   "cell_type": "markdown",
   "metadata": {},
   "source": [
    "#### Pearson's correlation coefficient\n",
    "\n",
    "### $ r = \\frac{\\sum_{i = 1}^N (x_{i} - \\bar{x})(y_{i} - \\bar{y})  }{(N - 1)s_{x}s_{y}}  $"
   ]
  },
  {
   "cell_type": "code",
   "execution_count": 12,
   "metadata": {},
   "outputs": [
    {
     "data": {
      "text/plain": [
       "0.9153901109173316"
      ]
     },
     "execution_count": 12,
     "metadata": {},
     "output_type": "execute_result"
    }
   ],
   "source": [
    "def pearsons_correlation_coefficient(x, y, sample=True):\n",
    "    N = len(x)\n",
    "    mean_x = mean(x)\n",
    "    mean_y = mean(y)\n",
    "    sum_deviations_from_mean = sum([(x[i] - mean_x) * (y[i] - mean_y) for i in range(N)])\n",
    "    s_x = standard_deviation(x)\n",
    "    s_y = standard_deviation(y)\n",
    "    denominator = (N - 1) if sample else N\n",
    "    return sum_deviations_from_mean / ( denominator * s_x * s_y )\n",
    "\n",
    "pearsons_correlation_coefficient(x=[1,2,6,10,15,60], y=[1,5,9,18,50,76])"
   ]
  },
  {
   "cell_type": "markdown",
   "metadata": {},
   "source": [
    "#### Correlation matrix"
   ]
  },
  {
   "cell_type": "code",
   "execution_count": 13,
   "metadata": {},
   "outputs": [
    {
     "name": "stdout",
     "output_type": "stream",
     "text": [
      "0.915390110917\n"
     ]
    },
    {
     "data": {
      "text/html": [
       "<div>\n",
       "<style scoped>\n",
       "    .dataframe tbody tr th:only-of-type {\n",
       "        vertical-align: middle;\n",
       "    }\n",
       "\n",
       "    .dataframe tbody tr th {\n",
       "        vertical-align: top;\n",
       "    }\n",
       "\n",
       "    .dataframe thead th {\n",
       "        text-align: right;\n",
       "    }\n",
       "</style>\n",
       "<table border=\"1\" class=\"dataframe\">\n",
       "  <thead>\n",
       "    <tr style=\"text-align: right;\">\n",
       "      <th></th>\n",
       "      <th>A</th>\n",
       "      <th>B</th>\n",
       "      <th>C</th>\n",
       "    </tr>\n",
       "  </thead>\n",
       "  <tbody>\n",
       "    <tr>\n",
       "      <th>A</th>\n",
       "      <td>1.000000</td>\n",
       "      <td>0.915390</td>\n",
       "      <td>0.891229</td>\n",
       "    </tr>\n",
       "    <tr>\n",
       "      <th>B</th>\n",
       "      <td>0.915390</td>\n",
       "      <td>1.000000</td>\n",
       "      <td>0.980945</td>\n",
       "    </tr>\n",
       "    <tr>\n",
       "      <th>C</th>\n",
       "      <td>0.891229</td>\n",
       "      <td>0.980945</td>\n",
       "      <td>1.000000</td>\n",
       "    </tr>\n",
       "  </tbody>\n",
       "</table>\n",
       "</div>"
      ],
      "text/plain": [
       "          A         B         C\n",
       "A  1.000000  0.915390  0.891229\n",
       "B  0.915390  1.000000  0.980945\n",
       "C  0.891229  0.980945  1.000000"
      ]
     },
     "execution_count": 13,
     "metadata": {},
     "output_type": "execute_result"
    }
   ],
   "source": [
    "import pandas as pd\n",
    "df = pd.DataFrame({'A': [1,2,6,10,15,60], 'B': [1,5,9,18,50,76], 'C': [3,9,16,44,68,99]})\n",
    "\n",
    "print( df['A'].corr(df['B']) )\n",
    "\n",
    "df.corr()"
   ]
  },
  {
   "cell_type": "markdown",
   "metadata": {},
   "source": [
    "#### Coefficient of determination\n",
    "\n",
    "$ r^2 $"
   ]
  },
  {
   "cell_type": "code",
   "execution_count": 14,
   "metadata": {},
   "outputs": [
    {
     "data": {
      "text/plain": [
       "0.8379390551652446"
      ]
     },
     "execution_count": 14,
     "metadata": {},
     "output_type": "execute_result"
    }
   ],
   "source": [
    "def r_squared(x, y):\n",
    "    return pearsons_correlation_coefficient(x, y)**2\n",
    "\n",
    "r_squared(x=[1,2,6,10,15,60], y=[1,5,9,18,50,76])"
   ]
  },
  {
   "cell_type": "markdown",
   "metadata": {},
   "source": [
    "#### Scatter plot w/ linear regression fit"
   ]
  },
  {
   "cell_type": "code",
   "execution_count": 15,
   "metadata": {},
   "outputs": [
    {
     "data": {
      "text/plain": [
       "<seaborn.axisgrid.JointGrid at 0x10c0048d0>"
      ]
     },
     "execution_count": 15,
     "metadata": {},
     "output_type": "execute_result"
    },
    {
     "data": {
      "image/png": "[encoded data removed]",
      "text/plain": [
       "<matplotlib.figure.Figure at 0x10c0b0f28>"
      ]
     },
     "metadata": {},
     "output_type": "display_data"
    }
   ],
   "source": [
    "x, y = pd.Series([1,2,6,10,15,60], name=\"x_var\"), pd.Series([1,5,9,18,50,76], name=\"y_var\")\n",
    "\n",
    "sns.jointplot(x, y, kind=\"reg\")"
   ]
  },
  {
   "cell_type": "markdown",
   "metadata": {},
   "source": [
    "### Exploring 2 or more variables\n",
    "\n",
    "\"Bivariate analysis\"\n",
    "\n",
    "**Contingency tables** - tally of counts b/w 2 or more categorical variables\n",
    "\n",
    "**Hexagonal binning** - plot of 2 numeric variables, with records binned into hexagons\n",
    "\n",
    "**Contour plots** - plot showing density of 2 numeric variables (like a topographical map)\n",
    "\n",
    "**Violin plots** - like a boxplot, but showing the density estimate"
   ]
  },
  {
   "cell_type": "markdown",
   "metadata": {},
   "source": [
    "#### Hexagonal binning"
   ]
  },
  {
   "cell_type": "code",
   "execution_count": 16,
   "metadata": {},
   "outputs": [
    {
     "data": {
      "text/plain": [
       "<seaborn.axisgrid.JointGrid at 0x10c1c7b38>"
      ]
     },
     "execution_count": 16,
     "metadata": {},
     "output_type": "execute_result"
    },
    {
     "data": {
      "image/png": "[encoded data removed]",
      "text/plain": [
       "<matplotlib.figure.Figure at 0x10c1d3940>"
      ]
     },
     "metadata": {},
     "output_type": "display_data"
    }
   ],
   "source": [
    "# generate a random dataset (from seaborn docs)\n",
    "import numpy as np\n",
    "rs = np.random.RandomState(11)\n",
    "x = rs.gamma(2, size=1000)\n",
    "y = -.5 * x + rs.normal(size=1000)\n",
    "\n",
    "sns.jointplot(x, y, kind=\"hex\", color=\"#4CB391\")"
   ]
  },
  {
   "cell_type": "markdown",
   "metadata": {},
   "source": [
    "#### Contour plot / kernel density estimate plot"
   ]
  },
  {
   "cell_type": "code",
   "execution_count": 17,
   "metadata": {},
   "outputs": [
    {
     "data": {
      "image/png": "[encoded data removed]",
      "text/plain": [
       "<matplotlib.figure.Figure at 0x10c0871d0>"
      ]
     },
     "metadata": {},
     "output_type": "display_data"
    }
   ],
   "source": [
    "ax = sns.kdeplot(x, y)"
   ]
  },
  {
   "cell_type": "markdown",
   "metadata": {},
   "source": [
    "#### Cross table / contingency tables"
   ]
  },
  {
   "cell_type": "code",
   "execution_count": 18,
   "metadata": {},
   "outputs": [
    {
     "data": {
      "text/html": [
       "<div>\n",
       "<style scoped>\n",
       "    .dataframe tbody tr th:only-of-type {\n",
       "        vertical-align: middle;\n",
       "    }\n",
       "\n",
       "    .dataframe tbody tr th {\n",
       "        vertical-align: top;\n",
       "    }\n",
       "\n",
       "    .dataframe thead tr th {\n",
       "        text-align: left;\n",
       "    }\n",
       "\n",
       "    .dataframe thead tr:last-of-type th {\n",
       "        text-align: right;\n",
       "    }\n",
       "</style>\n",
       "<table border=\"1\" class=\"dataframe\">\n",
       "  <thead>\n",
       "    <tr>\n",
       "      <th>b</th>\n",
       "      <th colspan=\"2\" halign=\"left\">one</th>\n",
       "      <th colspan=\"2\" halign=\"left\">two</th>\n",
       "    </tr>\n",
       "    <tr>\n",
       "      <th>c</th>\n",
       "      <th>dull</th>\n",
       "      <th>shiny</th>\n",
       "      <th>dull</th>\n",
       "      <th>shiny</th>\n",
       "    </tr>\n",
       "    <tr>\n",
       "      <th>a</th>\n",
       "      <th></th>\n",
       "      <th></th>\n",
       "      <th></th>\n",
       "      <th></th>\n",
       "    </tr>\n",
       "  </thead>\n",
       "  <tbody>\n",
       "    <tr>\n",
       "      <th>bar</th>\n",
       "      <td>1</td>\n",
       "      <td>2</td>\n",
       "      <td>1</td>\n",
       "      <td>0</td>\n",
       "    </tr>\n",
       "    <tr>\n",
       "      <th>foo</th>\n",
       "      <td>2</td>\n",
       "      <td>2</td>\n",
       "      <td>1</td>\n",
       "      <td>2</td>\n",
       "    </tr>\n",
       "  </tbody>\n",
       "</table>\n",
       "</div>"
      ],
      "text/plain": [
       "b    one        two      \n",
       "c   dull shiny dull shiny\n",
       "a                        \n",
       "bar    1     2    1     0\n",
       "foo    2     2    1     2"
      ]
     },
     "execution_count": 18,
     "metadata": {},
     "output_type": "execute_result"
    }
   ],
   "source": [
    "# generate a dataset (from pandas docs)\n",
    "a = np.array([\"foo\", \"foo\", \"foo\", \"foo\", \"bar\", \"bar\",\n",
    "              \"bar\", \"bar\", \"foo\", \"foo\", \"foo\"], dtype=object)\n",
    "b = np.array([\"one\", \"one\", \"one\", \"two\", \"one\", \"one\",\n",
    "              \"one\", \"two\", \"two\", \"two\", \"one\"], dtype=object)\n",
    "c = np.array([\"dull\", \"dull\", \"shiny\", \"dull\", \"dull\", \"shiny\",\n",
    "              \"shiny\", \"dull\", \"shiny\", \"shiny\", \"shiny\"],\n",
    "              dtype=object)\n",
    "\n",
    "pd.crosstab(a, [b, c], rownames=['a'], colnames=['b', 'c'])"
   ]
  },
  {
   "cell_type": "markdown",
   "metadata": {},
   "source": [
    "#### Boxplots"
   ]
  },
  {
   "cell_type": "code",
   "execution_count": 19,
   "metadata": {},
   "outputs": [
    {
     "data": {
      "image/png": "[encoded data removed]",
      "text/plain": [
       "<matplotlib.figure.Figure at 0x10ce87b00>"
      ]
     },
     "metadata": {},
     "output_type": "display_data"
    }
   ],
   "source": [
    "tips = sns.load_dataset(\"tips\")\n",
    "ax = sns.boxplot(x=\"day\", y=\"total_bill\", data=tips)"
   ]
  },
  {
   "cell_type": "markdown",
   "metadata": {},
   "source": [
    "#### Violin plots"
   ]
  },
  {
   "cell_type": "code",
   "execution_count": 20,
   "metadata": {},
   "outputs": [
    {
     "data": {
      "image/png": "[encoded data removed]",
      "text/plain": [
       "<matplotlib.figure.Figure at 0x10c2aac88>"
      ]
     },
     "metadata": {},
     "output_type": "display_data"
    }
   ],
   "source": [
    "ax = sns.violinplot(x=\"day\", y=\"total_bill\", data=tips)"
   ]
  },
  {
   "cell_type": "markdown",
   "metadata": {},
   "source": [
    "#### Facet grids"
   ]
  },
  {
   "cell_type": "code",
   "execution_count": 21,
   "metadata": {},
   "outputs": [
    {
     "data": {
      "image/png": "[encoded data removed]",
      "text/plain": [
       "<matplotlib.figure.Figure at 0x10d0eae10>"
      ]
     },
     "metadata": {},
     "output_type": "display_data"
    }
   ],
   "source": [
    "g = sns.FacetGrid(tips, col=\"time\",  row=\"smoker\")\n",
    "g = g.map(plt.hist, \"total_bill\")"
   ]
  },
  {
   "cell_type": "code",
   "execution_count": 22,
   "metadata": {},
   "outputs": [
    {
     "data": {
      "text/plain": [
       "<seaborn.axisgrid.FacetGrid at 0x10d332ac8>"
      ]
     },
     "execution_count": 22,
     "metadata": {},
     "output_type": "execute_result"
    },
    {
     "data": {
      "image/png": "[encoded data removed]",
      "text/plain": [
       "<matplotlib.figure.Figure at 0x10d332d30>"
      ]
     },
     "metadata": {},
     "output_type": "display_data"
    }
   ],
   "source": [
    "def hexbin(x, y, color, **kwargs):\n",
    "    cmap = sns.light_palette(color, as_cmap=True)\n",
    "    plt.hexbin(x, y, gridsize=15, cmap=cmap, **kwargs)\n",
    "\n",
    "g = sns.FacetGrid(tips, hue=\"time\", col=\"time\", size=4)\n",
    "g.map(hexbin, \"total_bill\", \"tip\", extent=[0, 50, 0, 10])"
   ]
  },
  {
   "cell_type": "code",
   "execution_count": null,
   "metadata": {},
   "outputs": [],
   "source": []
  }
 ],
 "metadata": {
  "kernelspec": {
   "display_name": "Python 3",
   "language": "python",
   "name": "python3"
  },
  "language_info": {
   "codemirror_mode": {
    "name": "ipython",
    "version": 3
   },
   "file_extension": ".py",
   "mimetype": "text/x-python",
   "name": "python",
   "nbconvert_exporter": "python",
   "pygments_lexer": "ipython3",
   "version": "3.6.3"
  }
 },
 "nbformat": 4,
 "nbformat_minor": 2
}
