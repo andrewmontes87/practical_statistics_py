{
 "cells": [
  {
   "cell_type": "code",
   "execution_count": 2,
   "metadata": {},
   "outputs": [],
   "source": [
    "import math, pylab\n",
    "import numpy as np\n",
    "import pandas as pd\n",
    "import scipy.stats as stats\n",
    "%matplotlib inline\n",
    "import matplotlib.pyplot as plt\n",
    "import seaborn as sns\n",
    "import pandas_datareader as pdr"
   ]
  },
  {
   "cell_type": "markdown",
   "metadata": {},
   "source": [
    "# Statistical experiments and significance testing\n",
    "\n",
    "Design of experiments is a cornerstone of statistics\n",
    "\n",
    "Experiments confirm or reject a hypothesis\n",
    "\n",
    "Data scientists conduct experiments around user interface and product marketing\n",
    "\n",
    "*Inference* is applying experiment results based on a sample to the broader population\n",
    "\n",
    "Classical statistical inference \"pipeline\"\n",
    "\n",
    "*Formulate hypothesis -> Design experiment -> Collect data -> Inference/conclusions*\n",
    "\n",
    "---"
   ]
  },
  {
   "cell_type": "markdown",
   "metadata": {},
   "source": [
    "## A/B testing\n",
    "\n",
    "- **Treatment** - something to which a subject is exposed (drug, price, web layout, etc.)\n",
    "\n",
    "- **Treatment group** - group of subjects exposed to specific treatment\n",
    "\n",
    "- **Control group** - group of subjects exposed to no treatment or standard treatment\n",
    "\n",
    "- **Randomization** - process of randomly assigning subjects to treatments\n",
    "\n",
    "- **Subjects** - item/people that are exposed to treatments (web users, drug users, etc.)\n",
    "\n",
    "- **Test statistic** - metric used to measure the effect of the treatment\n",
    "\n",
    "A/B tests are common in web design and marketing\n",
    "\n",
    "E.g. testing two web layouts to see what produces more clicks or conversions\n",
    "\n",
    "Most common test statistic in A/B testing is a binary variable: click or no click, buy or no buy, drug worked or drug didn't work.\n",
    "\n",
    "A continuous variable as the test statistic would have metrics like mean and standard deviation.\n",
    "\n",
    "### Why have a control group?\n",
    "\n",
    "Why not just roll out a change to all users, and compare against past experience?\n",
    "\n",
    "Other factors might affect the outcome.\n",
    "\n",
    "*Blind study* is when subjects don't know if they are getting treatment A or treament B\n",
    "\n",
    "*Double blind study* is when subjects don't know, AND researchers don't know which subjects get which treatment\n",
    "\n",
    "In web context, treatments include design, price, wording, etc.\n",
    "\n",
    "In web context, measuring clicks, purchases, visit duration, number of pages visiited, whether a particular page is visited, etc.\n",
    "\n",
    "Best to choose the test statistic before the experiment, to avoid researcher bias.\n",
    "\n",
    "### Why just A/B? Why not C, D... ?\n",
    "\n",
    "A/B tests are popular but not the only type of experiment\n",
    "\n",
    "*Multi-arm bandit algorithm* is used to look at multiple options\n",
    "\n",
    "- subjects are assigned to 2 (or more) groups that are treated exactly alike, except for the treatment\n",
    "\n",
    "- ideally, subjects are assigned randomly to the groups\n",
    "\n",
    "---"
   ]
  },
  {
   "cell_type": "markdown",
   "metadata": {},
   "source": [
    "## Hypothesis tests\n",
    "\n",
    "- **Null hypothesis** - hypothesis that chance is to blame\n",
    "\n",
    "- **Alternative hypothesis** - counterpoint to the null - what you hope to prove\n",
    "\n",
    "- **One-way test** - hypothesis test that counts chance results only in one direction\n",
    "\n",
    "- **Two-way test** - counts chance results in 2 directions\n",
    "\n",
    "Also called *significance tests*\n",
    "\n",
    "\"Is random chance responsible for an observed effect?\"\n",
    "\n",
    "Make sure you're not being fooled by random chance.\n",
    "\n",
    "In a proper A/B test, you want to structure it so any difference on A treatment and B treatment is due to either random chance of how subjects were assigned to groups, or a true difference between A and B.\n",
    "\n",
    "A statistical hypothesis test is a further analysis, assessing whether random chance could be a reasonable explanation.\n",
    "\n",
    "### Null hypothesis\n",
    "\n",
    "Baseline assumption is that treatments are equal, and the difference is due to chance.\n",
    "\n",
    "We then hope to prove this null hypothesis *wrong*, and so prove that there is a true difference between A and B.\n",
    "\n",
    "One way to do this is a resampling permutation procedure, shuffling together results and resampling repeatedly, seeing how often we see a difference as extreme as the observed difference.\n",
    "\n",
    "### Alternative hypothesis\n",
    "\n",
    "The alternative to the null - \"A works better than B\", etc.\n",
    "\n",
    "Taken together, the null and the alternative hypotheses must cover all possibilities\n",
    "\n",
    "### One-way, Two-way hypothesis tests\n",
    "\n",
    "If you consider one option the default, you don't care so much about random chance in that direction, because you'd already be sticking with the default.\n",
    "\n",
    "So you want a *directional* alternative hypothesis (e.g. B is better than A) and a *one-way* test. This means extreme chance results in only one direction count toward the p-value.\n",
    "\n",
    "If you want to track chance in either direction, it's *bidirectional* (e.g. A is different than B, could be bigger or smaller)\n",
    "\n",
    "This case use a *two-way* test, where extreme values in either direction count toward p-value.\n",
    "\n",
    "- null hypothesis is a notion that nothing special has happened, and any effect is due to random chance\n",
    "- hypothesis test assumes that null hypothesis is true, creates a null probability model, and tests whether the effect you observe is a reasonable outcome of that model\n",
    "\n",
    "---"
   ]
  },
  {
   "cell_type": "markdown",
   "metadata": {},
   "source": [
    "## Resampling\n",
    "\n",
    "- **Permutation test** - combining 2 or more samples together, randomly reallocating observations to samples\n",
    "\n",
    "- **With or without replacement** - whether or not item selected is returned before the next sample draw\n",
    "\n",
    "Repeatedly sampling values from observed data\n",
    "\n",
    "Goal: assessing random variability in a statistic\n",
    "\n",
    "Two types of resampling: *bootstrap* and *permutation* tests\n",
    "\n",
    "Bootstrap assesses reliability of an estimate\n",
    "\n",
    "Permutation tests are used to test hypotheses, usually w/ 2 or more groups\n",
    "\n",
    "### Permutation test\n",
    "\n",
    "*Random permutation test*\n",
    "\n",
    "First step of a permutation test is combining two or more groups together\n",
    "\n",
    "Then draw randomly from combined set and see how they differ\n",
    "\n",
    "- combine results (group A, group B, etc.) into a single dataset\n",
    "- shuffle, then sample w/o replacement a resample of size of group A\n",
    "- from remaining data, sample w/o replacement a resample of size of group B\n",
    "- so on for C, D, etc.\n",
    "- whatever statistic or estimate calculated for original samples, calculate for the resamples\n",
    "- repeat previous step R times to yield a permutation distribution of the test statistic\n",
    "\n",
    "Now go back to the observed difference between groups and compare it to the set of permutted differences\n",
    "\n",
    "If the observed difference lies outside most of the permutation distribution, the difference is *statistically significant*"
   ]
  },
  {
   "cell_type": "code",
   "execution_count": 111,
   "metadata": {},
   "outputs": [
    {
     "name": "stdout",
     "output_type": "stream",
     "text": [
      "Observed mean diff -0.946\n"
     ]
    },
    {
     "data": {
      "image/png": "[encoded data removed]",
      "text/plain": [
       "<matplotlib.figure.Figure at 0x111377fd0>"
      ]
     },
     "metadata": {},
     "output_type": "display_data"
    }
   ],
   "source": [
    "# creating some statistically significant data\n",
    "group_a = np.random.randint(0,10, size=1000)\n",
    "group_b = np.random.randint(1,11, size=1000)\n",
    "mean_dif = group_a.mean() - group_b.mean()\n",
    "\n",
    "print('Observed mean diff', mean_dif)\n",
    "\n",
    "# plot with seaborn\n",
    "ax = sns.boxplot(x=['A', 'B'], y=[group_a, group_b])\n",
    "plt.title('Boxplot of groups A and B')\n",
    "plt.xlabel('Treatment group')\n",
    "plt.ylabel('Test statistic')\n",
    "plt.show()"
   ]
  },
  {
   "cell_type": "code",
   "execution_count": 112,
   "metadata": {},
   "outputs": [
    {
     "name": "stdout",
     "output_type": "stream",
     "text": [
      "Mean: -0.4724284\n",
      "SD: 0.0637917100683\n"
     ]
    },
    {
     "data": {
      "image/png": "[encoded data removed]",
      "text/plain": [
       "<matplotlib.figure.Figure at 0x1113e0940>"
      ]
     },
     "metadata": {},
     "output_type": "display_data"
    }
   ],
   "source": [
    "group_a_b = np.concatenate((group_a,group_b))\n",
    "permutation_means = []\n",
    "\n",
    "for _ in range(10000):\n",
    "    np.random.shuffle(group_a_b)\n",
    "    group_a_i = group_a_b[:1000]\n",
    "    group_a = group_a_b[1000:]\n",
    "    mean_dif_i = group_a.mean() - group_b.mean()\n",
    "    permutation_means.append(mean_dif_i)\n",
    "\n",
    "print('Mean:', np.mean(permutation_means))\n",
    "print('SD:', np.std(permutation_means))\n",
    "    \n",
    "# plot with seaborn\n",
    "ax = sns.distplot(permutation_means)\n",
    "plt.title('Permutation distribution')\n",
    "plt.xlabel('Difference between mean of permutation group A and permutation group B')\n",
    "plt.plot([mean_dif, mean_dif],[0,8], linewidth=2)\n",
    "plt.show()"
   ]
  },
  {
   "cell_type": "markdown",
   "metadata": {},
   "source": [
    "The observed statistic (difference between mean of group A and mean of group B) is in fact outside most of the permutation distribution.\n",
    "\n",
    "This means our observed difference is *statistically significant*.\n",
    "\n",
    "### Exhaustive and bootstrap permutation test\n",
    "\n",
    "*Exhaustive*, or *exact* permuation tests checks every possible permutation\n",
    "\n",
    "Only possible with smaller sample sizes\n",
    "\n",
    "*Bootstrap* permutation test is sampling *with replacement*\n",
    "\n",
    "This way we model not just the random element of assigning treatment to subject, but also the random element of selecting subjects from the population.\n",
    "\n",
    "### Permutation tests: bottom line for data science\n",
    "\n",
    "A useful heuristic procedure for exploring role of random variation\n",
    "\n",
    "\"One size fits all\" approach to inference - can accomodate different sample sizes, data types, etc.\n",
    "\n",
    "- permutation test combines multiple samples and shuffles\n",
    "- shuffled values are then divided into resamples, and statistic is calculated\n",
    "- process is repeated, and resampled statistic is tabulated\n",
    "- comparing the observed value of the statistic to the resampled distribution allows you to to judge whether an observed difference between samples might occur by chance\n",
    "\n",
    "---"
   ]
  },
  {
   "cell_type": "markdown",
   "metadata": {},
   "source": [
    "## Statistical significance and P-values\n",
    "\n",
    "- **P-value** - given a chance model that embodies the null hypothesis, the p-value is the probability of obtaining results as unusual or extreme as the observed results\n",
    "\n",
    "- **Alpha** - probability threshold of \"unusualness\" that chance results must surpass, for actual outcomes to be deemed statistically significant\n",
    "\n",
    "- **Type 1 error** - mistakenly concluding an effect is real, when it's actually due to chance\n",
    "\n",
    "- **Type 2 error** - mistakenly concluding an effect is due to chance, when it's actually real\n",
    "\n",
    "*Statistical significance* is how you measure whether an experiment yields a result more extreme than what chance might produce."
   ]
  },
  {
   "cell_type": "code",
   "execution_count": 115,
   "metadata": {},
   "outputs": [
    {
     "data": {
      "text/html": [
       "<div>\n",
       "<style scoped>\n",
       "    .dataframe tbody tr th:only-of-type {\n",
       "        vertical-align: middle;\n",
       "    }\n",
       "\n",
       "    .dataframe tbody tr th {\n",
       "        vertical-align: top;\n",
       "    }\n",
       "\n",
       "    .dataframe thead th {\n",
       "        text-align: right;\n",
       "    }\n",
       "</style>\n",
       "<table border=\"1\" class=\"dataframe\">\n",
       "  <thead>\n",
       "    <tr style=\"text-align: right;\">\n",
       "      <th></th>\n",
       "      <th>Price A</th>\n",
       "      <th>Price B</th>\n",
       "    </tr>\n",
       "  </thead>\n",
       "  <tbody>\n",
       "    <tr>\n",
       "      <th>Conversion</th>\n",
       "      <td>200</td>\n",
       "      <td>182</td>\n",
       "    </tr>\n",
       "    <tr>\n",
       "      <th>No conversion</th>\n",
       "      <td>23539</td>\n",
       "      <td>22406</td>\n",
       "    </tr>\n",
       "  </tbody>\n",
       "</table>\n",
       "</div>"
      ],
      "text/plain": [
       "               Price A  Price B\n",
       "Conversion         200      182\n",
       "No conversion    23539    22406"
      ]
     },
     "execution_count": 115,
     "metadata": {},
     "output_type": "execute_result"
    }
   ],
   "source": [
    "web_test_results = pd.DataFrame({'Price A':[200,23539],'Price B':[182,22406]}, index=['Conversion','No conversion'])\n",
    "\n",
    "web_test_results"
   ]
  },
  {
   "cell_type": "code",
   "execution_count": 152,
   "metadata": {},
   "outputs": [
    {
     "name": "stdout",
     "output_type": "stream",
     "text": [
      "Price A    0.008425\n",
      "Price B    0.008057\n",
      "dtype: float64\n",
      "Conversion rate difference: 0.000367579118206\n"
     ]
    }
   ],
   "source": [
    "conversion_rate = web_test_results.loc['Conversion',] / (web_test_results.loc['No conversion',] + web_test_results.loc['Conversion',])\n",
    "\n",
    "print(conversion_rate)\n",
    "\n",
    "observed_difference = (conversion_rate['Price A'] - conversion_rate['Price B'])\n",
    "\n",
    "print('Conversion rate difference:',observed_difference)"
   ]
  },
  {
   "cell_type": "markdown",
   "metadata": {},
   "source": [
    "\"If the 2 prices share the same conversion rate, could chance produce a difference like this?\"\n",
    "\n",
    "- combine samples and shuffle\n",
    "- select new sample of size of group A, and of group B\n",
    "- record the statistic for each group, and the difference between groups\n",
    "- repeat R times\n",
    "- note how often the difference was above/below a certain threshhold"
   ]
  },
  {
   "cell_type": "code",
   "execution_count": 155,
   "metadata": {},
   "outputs": [
    {
     "data": {
      "image/png": "[encoded data removed]",
      "text/plain": [
       "<matplotlib.figure.Figure at 0x10aeca7f0>"
      ]
     },
     "metadata": {},
     "output_type": "display_data"
    }
   ],
   "source": [
    "num_ones = web_test_results.loc['Conversion',].sum()\n",
    "num_zeros = web_test_results.loc['No conversion',].sum()\n",
    "a_size = web_test_results['Price A'].sum()\n",
    "b_size = web_test_results['Price B'].sum()\n",
    "\n",
    "all_data = [1] * num_ones + [0] * num_zeros\n",
    "diffs = []\n",
    "\n",
    "def proportion(x):\n",
    "    return sum(x) / len(x)\n",
    "\n",
    "for _ in range(1000):\n",
    "    np.random.shuffle(all_data)\n",
    "    diffs.append(proportion(all_data[:a_size]) - proportion(all_data[a_size:]))\n",
    "    \n",
    "# plot with seaborn\n",
    "ax = sns.distplot(diffs)\n",
    "plt.xlabel('conversion rate')\n",
    "plt.ylabel('frequency')\n",
    "plt.plot([observed_difference, observed_difference],[0,500], linewidth=2)\n",
    "plt.show()"
   ]
  },
  {
   "cell_type": "markdown",
   "metadata": {},
   "source": [
    "We see that the observed difference is well within the range of chance variation.\n",
    "\n",
    "### P-value\n",
    "\n",
    "Lorem"
   ]
  },
  {
   "cell_type": "code",
   "execution_count": 167,
   "metadata": {},
   "outputs": [
    {
     "name": "stdout",
     "output_type": "stream",
     "text": [
      "P-value 0.31553554751\n"
     ]
    }
   ],
   "source": [
    "z_score = (observed_difference - np.mean(diffs)) / np.std(diffs)\n",
    "\n",
    "# if we assume the data is normally distributed\n",
    "p_value = 1 - stats.norm.cdf(z_score)\n",
    "\n",
    "print('P-value', p_value)"
   ]
  },
  {
   "cell_type": "code",
   "execution_count": null,
   "metadata": {},
   "outputs": [],
   "source": []
  }
 ],
 "metadata": {
  "kernelspec": {
   "display_name": "Python 3",
   "language": "python",
   "name": "python3"
  },
  "language_info": {
   "codemirror_mode": {
    "name": "ipython",
    "version": 3
   },
   "file_extension": ".py",
   "mimetype": "text/x-python",
   "name": "python",
   "nbconvert_exporter": "python",
   "pygments_lexer": "ipython3",
   "version": "3.6.3"
  }
 },
 "nbformat": 4,
 "nbformat_minor": 2
}
