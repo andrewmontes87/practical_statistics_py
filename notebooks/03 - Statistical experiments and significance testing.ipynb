{
 "cells": [
  {
   "cell_type": "code",
   "execution_count": 1,
   "metadata": {},
   "outputs": [],
   "source": [
    "import math, pylab\n",
    "import numpy as np\n",
    "import pandas as pd\n",
    "import scipy.stats as stats\n",
    "%matplotlib inline\n",
    "import matplotlib.pyplot as plt\n",
    "import seaborn as sns\n",
    "import pandas_datareader as pdr"
   ]
  },
  {
   "cell_type": "markdown",
   "metadata": {},
   "source": [
    "# Statistical experiments and significance testing\n",
    "\n",
    "Design of experiments is a cornerstone of statistics\n",
    "\n",
    "Experiments confirm or reject a hypothesis\n",
    "\n",
    "Data scientists conduct experiments around user interface and product marketing\n",
    "\n",
    "*Inference* is applying experiment results based on a sample to the broader population\n",
    "\n",
    "Classical statistical inference \"pipeline\"\n",
    "\n",
    "*Formulate hypothesis -> Design experiment -> Collect data -> Inference/conclusions*\n",
    "\n",
    "---"
   ]
  },
  {
   "cell_type": "markdown",
   "metadata": {},
   "source": [
    "## A/B testing\n",
    "\n",
    "- **Treatment** - something to which a subject is exposed (drug, price, web layout, etc.)\n",
    "\n",
    "- **Treatment group** - group of subjects exposed to specific treatment\n",
    "\n",
    "- **Control group** - group of subjects exposed to no treatment or standard treatment\n",
    "\n",
    "- **Randomization** - process of randomly assigning subjects to treatments\n",
    "\n",
    "- **Subjects** - item/people that are exposed to treatments (web users, drug users, etc.)\n",
    "\n",
    "- **Test statistic** - metric used to measure the effect of the treatment\n",
    "\n",
    "A/B tests are common in web design and marketing\n",
    "\n",
    "E.g. testing two web layouts to see what produces more clicks or conversions\n",
    "\n",
    "Most common test statistic in A/B testing is a binary variable: click or no click, buy or no buy, drug worked or drug didn't work.\n",
    "\n",
    "A continuous variable as the test statistic would have metrics like mean and standard deviation.\n",
    "\n",
    "### Why have a control group?\n",
    "\n",
    "Why not just roll out a change to all users, and compare against past experience?\n",
    "\n",
    "Other factors might affect the outcome.\n",
    "\n",
    "*Blind study* is when subjects don't know if they are getting treatment A or treament B\n",
    "\n",
    "*Double blind study* is when subjects don't know, AND researchers don't know which subjects get which treatment\n",
    "\n",
    "In web context, treatments include design, price, wording, etc.\n",
    "\n",
    "In web context, measuring clicks, purchases, visit duration, number of pages visiited, whether a particular page is visited, etc.\n",
    "\n",
    "Best to choose the test statistic before the experiment, to avoid researcher bias.\n",
    "\n",
    "### Why just A/B? Why not C, D... ?\n",
    "\n",
    "A/B tests are popular but not the only type of experiment\n",
    "\n",
    "*Multi-arm bandit algorithm* is used to look at multiple options\n",
    "\n",
    "- subjects are assigned to 2 (or more) groups that are treated exactly alike, except for the treatment\n",
    "\n",
    "- ideally, subjects are assigned randomly to the groups\n",
    "\n",
    "---"
   ]
  },
  {
   "cell_type": "markdown",
   "metadata": {},
   "source": [
    "## Hypothesis tests\n",
    "\n",
    "- **Null hypothesis** - hypothesis that chance is to blame\n",
    "\n",
    "- **Alternative hypothesis** - counterpoint to the null - what you hope to prove\n",
    "\n",
    "- **One-way test** - hypothesis test that counts chance results only in one direction\n",
    "\n",
    "- **Two-way test** - counts chance results in 2 directions\n",
    "\n",
    "Also called *significance tests*\n",
    "\n",
    "\"Is random chance responsible for an observed effect?\"\n",
    "\n",
    "Make sure you're not being fooled by random chance.\n",
    "\n",
    "In a proper A/B test, you want to structure it so any difference on A treatment and B treatment is due to either random chance of how subjects were assigned to groups, or a true difference between A and B.\n",
    "\n",
    "A statistical hypothesis test is a further analysis, assessing whether random chance could be a reasonable explanation.\n",
    "\n",
    "### Null hypothesis\n",
    "\n",
    "Baseline assumption is that treatments are equal, and the difference is due to chance.\n",
    "\n",
    "We then hope to prove this null hypothesis *wrong*, and so prove that there is a true difference between A and B.\n",
    "\n",
    "One way to do this is a resampling permutation procedure, shuffling together results and resampling repeatedly, seeing how often we see a difference as extreme as the observed difference.\n",
    "\n",
    "### Alternative hypothesis\n",
    "\n",
    "The alternative to the null - \"A works better than B\", etc.\n",
    "\n",
    "Taken together, the null and the alternative hypotheses must cover all possibilities\n",
    "\n",
    "### One-way, Two-way hypothesis tests\n",
    "\n",
    "If you consider one option the default, you don't care so much about random chance in that direction, because you'd already be sticking with the default.\n",
    "\n",
    "So you want a *directional* alternative hypothesis (e.g. B is better than A) and a *one-way* test. This means extreme chance results in only one direction count toward the p-value.\n",
    "\n",
    "If you want to track chance in either direction, it's *bidirectional* (e.g. A is different than B, could be bigger or smaller)\n",
    "\n",
    "This case use a *two-way* test, where extreme values in either direction count toward p-value.\n",
    "\n",
    "- null hypothesis is a notion that nothing special has happened, and any effect is due to random chance\n",
    "- hypothesis test assumes that null hypothesis is true, creates a null probability model, and tests whether the effect you observe is a reasonable outcome of that model\n",
    "\n",
    "---"
   ]
  },
  {
   "cell_type": "markdown",
   "metadata": {},
   "source": [
    "## Resampling\n",
    "\n",
    "- **Permutation test** - combining 2 or more samples together, randomly reallocating observations to samples\n",
    "\n",
    "- **With or without replacement** - whether or not item selected is returned before the next sample draw\n",
    "\n",
    "Repeatedly sampling values from observed data\n",
    "\n",
    "Goal: assessing random variability in a statistic\n",
    "\n",
    "Two types of resampling: *bootstrap* and *permutation* tests\n",
    "\n",
    "Bootstrap assesses reliability of an estimate\n",
    "\n",
    "Permutation tests are used to test hypotheses, usually w/ 2 or more groups\n",
    "\n",
    "### Permutation test\n",
    "\n",
    "*Random permutation test*\n",
    "\n",
    "First step of a permutation test is combining two or more groups together\n",
    "\n",
    "Then draw randomly from combined set and see how they differ\n",
    "\n",
    "- combine results (group A, group B, etc.) into a single dataset\n",
    "- shuffle, then sample w/o replacement a resample of size of group A\n",
    "- from remaining data, sample w/o replacement a resample of size of group B\n",
    "- so on for C, D, etc.\n",
    "- whatever statistic or estimate calculated for original samples, calculate for the resamples\n",
    "- repeat previous step R times to yield a permutation distribution of the test statistic\n",
    "\n",
    "Now go back to the observed difference between groups and compare it to the set of permutted differences\n",
    "\n",
    "If the observed difference lies outside most of the permutation distribution, the difference is *statistically significant*"
   ]
  },
  {
   "cell_type": "code",
   "execution_count": 2,
   "metadata": {},
   "outputs": [
    {
     "name": "stdout",
     "output_type": "stream",
     "text": [
      "Observed mean diff -0.873\n"
     ]
    },
    {
     "data": {
      "image/png": "[encoded data removed]",
      "text/plain": [
       "<matplotlib.figure.Figure at 0x109df82e8>"
      ]
     },
     "metadata": {},
     "output_type": "display_data"
    }
   ],
   "source": [
    "# creating some statistically significant data\n",
    "group_a = np.random.randint(0,10, size=1000)\n",
    "group_b = np.random.randint(1,11, size=1000)\n",
    "mean_dif = group_a.mean() - group_b.mean()\n",
    "\n",
    "print('Observed mean diff', mean_dif)\n",
    "\n",
    "# plot with seaborn\n",
    "ax = sns.boxplot(x=['A', 'B'], y=[group_a, group_b])\n",
    "plt.title('Boxplot of groups A and B')\n",
    "plt.xlabel('Treatment group')\n",
    "plt.ylabel('Test statistic')\n",
    "plt.show()"
   ]
  },
  {
   "cell_type": "code",
   "execution_count": 3,
   "metadata": {},
   "outputs": [
    {
     "name": "stdout",
     "output_type": "stream",
     "text": [
      "Mean: -0.4365849\n",
      "SD: 0.065047636329\n"
     ]
    },
    {
     "data": {
      "image/png": "[encoded data removed]",
      "text/plain": [
       "<matplotlib.figure.Figure at 0x10e3ca160>"
      ]
     },
     "metadata": {},
     "output_type": "display_data"
    }
   ],
   "source": [
    "group_a_b = np.concatenate((group_a,group_b))\n",
    "permutation_means = []\n",
    "\n",
    "for _ in range(10000):\n",
    "    np.random.shuffle(group_a_b)\n",
    "    group_a_i = group_a_b[:1000]\n",
    "    group_a = group_a_b[1000:]\n",
    "    mean_dif_i = group_a.mean() - group_b.mean()\n",
    "    permutation_means.append(mean_dif_i)\n",
    "\n",
    "print('Mean:', np.mean(permutation_means))\n",
    "print('SD:', np.std(permutation_means))\n",
    "    \n",
    "# plot with seaborn\n",
    "ax = sns.distplot(permutation_means)\n",
    "plt.title('Permutation distribution')\n",
    "plt.xlabel('Difference between mean of permutation group A and permutation group B')\n",
    "plt.plot([mean_dif, mean_dif],[0,8], linewidth=2)\n",
    "plt.show()"
   ]
  },
  {
   "cell_type": "markdown",
   "metadata": {},
   "source": [
    "The observed statistic (difference between mean of group A and mean of group B) is in fact outside most of the permutation distribution.\n",
    "\n",
    "This means our observed difference is *statistically significant*.\n",
    "\n",
    "### Exhaustive and bootstrap permutation test\n",
    "\n",
    "*Exhaustive*, or *exact* permuation tests checks every possible permutation\n",
    "\n",
    "Only possible with smaller sample sizes\n",
    "\n",
    "*Bootstrap* permutation test is sampling *with replacement*\n",
    "\n",
    "This way we model not just the random element of assigning treatment to subject, but also the random element of selecting subjects from the population.\n",
    "\n",
    "### Permutation tests: bottom line for data science\n",
    "\n",
    "A useful heuristic procedure for exploring role of random variation\n",
    "\n",
    "\"One size fits all\" approach to inference - can accomodate different sample sizes, data types, etc.\n",
    "\n",
    "- permutation test combines multiple samples and shuffles\n",
    "- shuffled values are then divided into resamples, and statistic is calculated\n",
    "- process is repeated, and resampled statistic is tabulated\n",
    "- comparing the observed value of the statistic to the resampled distribution allows you to to judge whether an observed difference between samples might occur by chance\n",
    "\n",
    "---"
   ]
  },
  {
   "cell_type": "markdown",
   "metadata": {},
   "source": [
    "## Statistical significance and P-values\n",
    "\n",
    "- **P-value** - given a chance model that embodies the null hypothesis, the p-value is the probability of obtaining results as unusual or extreme as the observed results\n",
    "\n",
    "- **Alpha** - probability threshold of \"unusualness\" that chance results must surpass, for actual outcomes to be deemed statistically significant\n",
    "\n",
    "- **Type 1 error** - mistakenly concluding an effect is real, when it's actually due to chance\n",
    "\n",
    "- **Type 2 error** - mistakenly concluding an effect is due to chance, when it's actually real\n",
    "\n",
    "*Statistical significance* is how you measure whether an experiment yields a result more extreme than what chance might produce."
   ]
  },
  {
   "cell_type": "code",
   "execution_count": 4,
   "metadata": {},
   "outputs": [
    {
     "data": {
      "text/html": [
       "<div>\n",
       "<style scoped>\n",
       "    .dataframe tbody tr th:only-of-type {\n",
       "        vertical-align: middle;\n",
       "    }\n",
       "\n",
       "    .dataframe tbody tr th {\n",
       "        vertical-align: top;\n",
       "    }\n",
       "\n",
       "    .dataframe thead th {\n",
       "        text-align: right;\n",
       "    }\n",
       "</style>\n",
       "<table border=\"1\" class=\"dataframe\">\n",
       "  <thead>\n",
       "    <tr style=\"text-align: right;\">\n",
       "      <th></th>\n",
       "      <th>Price A</th>\n",
       "      <th>Price B</th>\n",
       "    </tr>\n",
       "  </thead>\n",
       "  <tbody>\n",
       "    <tr>\n",
       "      <th>Conversion</th>\n",
       "      <td>200</td>\n",
       "      <td>182</td>\n",
       "    </tr>\n",
       "    <tr>\n",
       "      <th>No conversion</th>\n",
       "      <td>23539</td>\n",
       "      <td>22406</td>\n",
       "    </tr>\n",
       "  </tbody>\n",
       "</table>\n",
       "</div>"
      ],
      "text/plain": [
       "               Price A  Price B\n",
       "Conversion         200      182\n",
       "No conversion    23539    22406"
      ]
     },
     "execution_count": 4,
     "metadata": {},
     "output_type": "execute_result"
    }
   ],
   "source": [
    "web_test_results = pd.DataFrame({'Price A':[200,23539],'Price B':[182,22406]}, index=['Conversion','No conversion'])\n",
    "\n",
    "web_test_results"
   ]
  },
  {
   "cell_type": "code",
   "execution_count": 5,
   "metadata": {},
   "outputs": [
    {
     "name": "stdout",
     "output_type": "stream",
     "text": [
      "Price A    0.008425\n",
      "Price B    0.008057\n",
      "dtype: float64\n",
      "Conversion rate difference: 0.000367579118206\n"
     ]
    }
   ],
   "source": [
    "conversion_rate = web_test_results.loc['Conversion',] / (web_test_results.loc['No conversion',] + web_test_results.loc['Conversion',])\n",
    "\n",
    "print(conversion_rate)\n",
    "\n",
    "observed_difference = (conversion_rate['Price A'] - conversion_rate['Price B'])\n",
    "\n",
    "print('Conversion rate difference:',observed_difference)"
   ]
  },
  {
   "cell_type": "markdown",
   "metadata": {},
   "source": [
    "\"If the 2 prices share the same conversion rate, could chance produce a difference like this?\"\n",
    "\n",
    "- combine samples and shuffle\n",
    "- select new sample of size of group A, and of group B\n",
    "- record the statistic for each group, and the difference between groups\n",
    "- repeat R times\n",
    "- note how often the difference was above/below a certain threshhold"
   ]
  },
  {
   "cell_type": "code",
   "execution_count": 6,
   "metadata": {},
   "outputs": [
    {
     "data": {
      "image/png": "[encoded data removed]",
      "text/plain": [
       "<matplotlib.figure.Figure at 0x10e6d57f0>"
      ]
     },
     "metadata": {},
     "output_type": "display_data"
    }
   ],
   "source": [
    "num_ones = web_test_results.loc['Conversion',].sum()\n",
    "num_zeros = web_test_results.loc['No conversion',].sum()\n",
    "a_size = web_test_results['Price A'].sum()\n",
    "b_size = web_test_results['Price B'].sum()\n",
    "\n",
    "all_data = [1] * num_ones + [0] * num_zeros\n",
    "diffs = []\n",
    "\n",
    "def proportion(x):\n",
    "    return sum(x) / len(x)\n",
    "\n",
    "for _ in range(1000):\n",
    "    np.random.shuffle(all_data)\n",
    "    diffs.append(proportion(all_data[:a_size]) - proportion(all_data[a_size:]))\n",
    "    \n",
    "# plot with seaborn\n",
    "ax = sns.distplot(diffs)\n",
    "plt.xlabel('conversion rate')\n",
    "plt.ylabel('frequency')\n",
    "plt.plot([observed_difference, observed_difference],[0,500], linewidth=2)\n",
    "plt.show()"
   ]
  },
  {
   "cell_type": "markdown",
   "metadata": {},
   "source": [
    "We see that the observed difference is well within the range of chance variation.\n",
    "\n",
    "### P-value\n",
    "\n",
    "*P-value* is the frequency with which the chance model produces a result more extreme than the observed result"
   ]
  },
  {
   "cell_type": "code",
   "execution_count": 8,
   "metadata": {},
   "outputs": [
    {
     "name": "stdout",
     "output_type": "stream",
     "text": [
      "P-value 0.340164902288\n"
     ]
    }
   ],
   "source": [
    "###\n",
    "### this could use more work...\n",
    "\n",
    "z_score = (observed_difference - np.mean(diffs)) / np.std(diffs)\n",
    "\n",
    "# if we assume the data is normally distributed\n",
    "p_value = 1 - stats.norm.cdf(z_score)\n",
    "\n",
    "print('P-value', p_value)"
   ]
  },
  {
   "cell_type": "markdown",
   "metadata": {},
   "source": [
    "### Alpha\n",
    "\n",
    "Specify a threshold in advance what is \"unusual\"\n",
    "\n",
    "E.g. \"more extreme than 5% of the chance (null hypothesis) results\"\n",
    "\n",
    "Typical alpha levels are 5% and 1%\n",
    "\n",
    "#### Value of the p-value\n",
    "\n",
    "P-value has some controversy. It can be \"gamed\"\n",
    "\n",
    "### Type 1 and Type 2 errors\n",
    "\n",
    "Type 1 error - mistakenly concluding an effect is real, when it's actually due to chance\n",
    "\n",
    "Type 2 error - mistakenly concluding an effect is due to chance, when it's actually real\n",
    "\n",
    "\n",
    "Type 2 error could come from needing a larger sample size\n",
    "\n",
    "Basic function of *hypothesis tests* is to protect from Type 1 error\n",
    "\n",
    "### Data science and p-values\n",
    "\n",
    "But basically, p-values are less useful for data science than for classic statistics.\n",
    "\n",
    "It can let you check a model result that looks interesting, check if it's within the normal chance variability range.\n",
    "\n",
    "Or maybe it's used as an intermediate input in some other model, e.g. ML.\n",
    "\n",
    "- significance/hypothesis tests determine whether something you see could be just a chance effect\n",
    "- p-value is the probability that results as extreme as the observation might occur by chance\n",
    "- alpha value is the threshold of unusualness willing to accept\n",
    "- significance testing is more relevant in formal research than data science (and is even fading in the former)\n",
    "\n",
    "---"
   ]
  },
  {
   "cell_type": "markdown",
   "metadata": {},
   "source": [
    "## t-tests\n",
    "\n",
    "- **Test statistic** - metric for the difference or effect of interest\n",
    "\n",
    "- **t-statistic** - standardized version of the test statistic\n",
    "\n",
    "- **t-distribution** - reference distribution to which the observed t-statistic can be compared\n",
    "\n",
    "Different ways to do significance tests\n",
    "\n",
    "Common way is the *t-test*, named after Student's t-distribution\n",
    "\n",
    "All significance/hypothesis tests require you specify a *test statistic* to measure the effect you're interested in\n",
    "\n",
    "In a resampling test (see permutation test), scale of the data doesn't matter. The reference distribution is created from the data itself through resampling.\n",
    "\n",
    "But it wasn't always feasible to randomly shuffle data thousands of times to do resampling tests.\n",
    "\n",
    "*t-test* was a good approximation of doing resampling/permutation.\n",
    "\n",
    "Used for an A/B numeric comparison\n",
    "\n",
    "In order to ignore scale, you have to standardize the test statistic."
   ]
  },
  {
   "cell_type": "code",
   "execution_count": 12,
   "metadata": {},
   "outputs": [
    {
     "name": "stdout",
     "output_type": "stream",
     "text": [
      "t = 3.81256298624\n",
      "p = 0.00127518537822\n"
     ]
    }
   ],
   "source": [
    "# pure python\n",
    "# https://towardsdatascience.com/inferential-statistics-series-t-test-using-numpy-2718f8f9bf2f\n",
    "\n",
    "#Sample Size\n",
    "N = 10\n",
    "\n",
    "#Gaussian distributed data with mean = 2 and var = 1\n",
    "a = np.random.randn(N) + 2\n",
    "\n",
    "#Gaussian distributed data with with mean = 0 and var = 1\n",
    "b = np.random.randn(N)\n",
    "\n",
    "#For unbiased max likelihood estimate we have to divide the var by N-1, and therefore the parameter ddof = 1\n",
    "var_a = a.var(ddof=1)\n",
    "var_b = b.var(ddof=1)\n",
    "\n",
    "#std deviation\n",
    "s = np.sqrt( ( var_a + var_b ) / 2 )\n",
    "\n",
    "## Calculate the t-statistics\n",
    "t = ( a.mean() - b.mean() ) / ( s * np.sqrt( 2 / N ) )\n",
    "\n",
    "# Compare with the critical t-value\n",
    "#Degrees of freedom\n",
    "df = 2*N - 2\n",
    "\n",
    "#p-value after comparison with the t \n",
    "p = 1 - stats.t.cdf(t,df=df)\n",
    "\n",
    "print(\"t = \" + str(t))\n",
    "print(\"p = \" + str(2*p))"
   ]
  },
  {
   "cell_type": "code",
   "execution_count": 13,
   "metadata": {},
   "outputs": [
    {
     "name": "stdout",
     "output_type": "stream",
     "text": [
      "t = 3.81256298624\n",
      "p = 0.00255037075644\n"
     ]
    }
   ],
   "source": [
    "### with scipy.stats\n",
    "t2, p2 = stats.ttest_ind(a,b)\n",
    "print(\"t = \" + str(t2))\n",
    "print(\"p = \" + str(2*p2))"
   ]
  },
  {
   "cell_type": "markdown",
   "metadata": {},
   "source": [
    "Resampling sidesteps many of the questions around which variation of hypothesis test to use.\n",
    "\n",
    "Data scientists traditionally don't need to use these techniques as much as classical statisticians.\n",
    "\n",
    "- before computers, resampling was not practical and standard reference distributions were used\n",
    "- test statistics could be standardized and compared to reference distribution\n",
    "- one such widely used standardized statistic is the t-statistic\n",
    "\n",
    "---"
   ]
  },
  {
   "cell_type": "markdown",
   "metadata": {},
   "source": [
    "## Multiple testing\n",
    "\n",
    "- **Type 1 error** - mistakenly concluding an effect is signicicant\n",
    "\n",
    "- **False discovery rate** - across multiple tests, rate of making Type 1 error\n",
    "\n",
    "- **Adjustment of p-values** - accounding for doing multiple tests on the same data\n",
    "\n",
    "- **Overfitting** - fitting the noise\n",
    "\n",
    "\n",
    "\"Torturing the data\" until it tells you something is a real risk.\n",
    "\n",
    "Multiplicity issues\n",
    "\n",
    "More research doesn't always mean better research\n",
    "\n",
    "Related to overfitting data in data mining/ML modeling\n",
    "\n",
    "- multiplicity in a rproject (multiple comparisons, many variables, many models, etc.) increases risk of Type 1 error\n",
    "- for if doing multiple statistical comparisons, there are adjustment procedures\n",
    "- in data mining, having a labeled \"holdout\" sample can avoid misleading results\n",
    "\n",
    "---"
   ]
  },
  {
   "cell_type": "markdown",
   "metadata": {},
   "source": [
    "## Degrees of freedom\n",
    "\n",
    "- **n or sample size** - number of observations (rows/records) in the data\n",
    "\n",
    "- **d.f.** - degrees of freedom\n",
    "\n",
    "Used to free estimates of bias\n",
    "\n",
    "But in data science, data is often so large that n vs. n - 1 doesn't mean much\n",
    "\n",
    "However, it does play into regression (linear and logistic).\n",
    "\n",
    "For example, there are *multicollinearity* errors.\n",
    "\n",
    "- number of d.f. forms part of the calculation to standardize test statistics so they can be compared to reference distributions\n",
    "- concept of d.f. lies behind factoring of categorical variables into \"dummy variables\" when doing a regression (to avoid multicollinearity)\n",
    "\n",
    "---"
   ]
  },
  {
   "cell_type": "markdown",
   "metadata": {},
   "source": [
    "## ANOVA\n",
    "\n",
    "- **Pairwise comparison** - lorem\n"
   ]
  },
  {
   "cell_type": "code",
   "execution_count": null,
   "metadata": {},
   "outputs": [],
   "source": []
  }
 ],
 "metadata": {
  "kernelspec": {
   "display_name": "Python 3",
   "language": "python",
   "name": "python3"
  },
  "language_info": {
   "codemirror_mode": {
    "name": "ipython",
    "version": 3
   },
   "file_extension": ".py",
   "mimetype": "text/x-python",
   "name": "python",
   "nbconvert_exporter": "python",
   "pygments_lexer": "ipython3",
   "version": "3.7.2"
  }
 },
 "nbformat": 4,
 "nbformat_minor": 2
}
